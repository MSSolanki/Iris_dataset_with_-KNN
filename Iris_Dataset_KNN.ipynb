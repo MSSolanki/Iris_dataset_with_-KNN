{
 "cells": [
  {
   "cell_type": "code",
   "execution_count": 3,
   "id": "dc560892",
   "metadata": {},
   "outputs": [],
   "source": [
    "import numpy as np\n",
    "import matplotlib.pyplot as plt\n",
    "import pandas as pd "
   ]
  },
  {
   "cell_type": "code",
   "execution_count": 4,
   "id": "a253d620",
   "metadata": {},
   "outputs": [],
   "source": [
    "url = \"https://archive.ics.uci.edu/ml/machine-learning-databases/iris/iris.data\""
   ]
  },
  {
   "cell_type": "code",
   "execution_count": 5,
   "id": "24683980",
   "metadata": {},
   "outputs": [],
   "source": [
    "names = ['sepal-width','sepal-length','petal-width','petal-length','Class']"
   ]
  },
  {
   "cell_type": "code",
   "execution_count": 6,
   "id": "cfa03684",
   "metadata": {},
   "outputs": [],
   "source": [
    "df = pd.read_csv(url , names= names)"
   ]
  },
  {
   "cell_type": "code",
   "execution_count": 7,
   "id": "4b6261bb",
   "metadata": {},
   "outputs": [
    {
     "data": {
      "text/html": [
       "<div>\n",
       "<style scoped>\n",
       "    .dataframe tbody tr th:only-of-type {\n",
       "        vertical-align: middle;\n",
       "    }\n",
       "\n",
       "    .dataframe tbody tr th {\n",
       "        vertical-align: top;\n",
       "    }\n",
       "\n",
       "    .dataframe thead th {\n",
       "        text-align: right;\n",
       "    }\n",
       "</style>\n",
       "<table border=\"1\" class=\"dataframe\">\n",
       "  <thead>\n",
       "    <tr style=\"text-align: right;\">\n",
       "      <th></th>\n",
       "      <th>sepal-width</th>\n",
       "      <th>sepal-length</th>\n",
       "      <th>petal-width</th>\n",
       "      <th>petal-length</th>\n",
       "      <th>Class</th>\n",
       "    </tr>\n",
       "  </thead>\n",
       "  <tbody>\n",
       "    <tr>\n",
       "      <th>0</th>\n",
       "      <td>5.1</td>\n",
       "      <td>3.5</td>\n",
       "      <td>1.4</td>\n",
       "      <td>0.2</td>\n",
       "      <td>Iris-setosa</td>\n",
       "    </tr>\n",
       "    <tr>\n",
       "      <th>1</th>\n",
       "      <td>4.9</td>\n",
       "      <td>3.0</td>\n",
       "      <td>1.4</td>\n",
       "      <td>0.2</td>\n",
       "      <td>Iris-setosa</td>\n",
       "    </tr>\n",
       "    <tr>\n",
       "      <th>2</th>\n",
       "      <td>4.7</td>\n",
       "      <td>3.2</td>\n",
       "      <td>1.3</td>\n",
       "      <td>0.2</td>\n",
       "      <td>Iris-setosa</td>\n",
       "    </tr>\n",
       "    <tr>\n",
       "      <th>3</th>\n",
       "      <td>4.6</td>\n",
       "      <td>3.1</td>\n",
       "      <td>1.5</td>\n",
       "      <td>0.2</td>\n",
       "      <td>Iris-setosa</td>\n",
       "    </tr>\n",
       "    <tr>\n",
       "      <th>4</th>\n",
       "      <td>5.0</td>\n",
       "      <td>3.6</td>\n",
       "      <td>1.4</td>\n",
       "      <td>0.2</td>\n",
       "      <td>Iris-setosa</td>\n",
       "    </tr>\n",
       "  </tbody>\n",
       "</table>\n",
       "</div>"
      ],
      "text/plain": [
       "   sepal-width  sepal-length  petal-width  petal-length        Class\n",
       "0          5.1           3.5          1.4           0.2  Iris-setosa\n",
       "1          4.9           3.0          1.4           0.2  Iris-setosa\n",
       "2          4.7           3.2          1.3           0.2  Iris-setosa\n",
       "3          4.6           3.1          1.5           0.2  Iris-setosa\n",
       "4          5.0           3.6          1.4           0.2  Iris-setosa"
      ]
     },
     "execution_count": 7,
     "metadata": {},
     "output_type": "execute_result"
    }
   ],
   "source": [
    "df.head()"
   ]
  },
  {
   "cell_type": "code",
   "execution_count": 8,
   "id": "e86c1df3",
   "metadata": {
    "scrolled": true
   },
   "outputs": [
    {
     "data": {
      "text/html": [
       "<div>\n",
       "<style scoped>\n",
       "    .dataframe tbody tr th:only-of-type {\n",
       "        vertical-align: middle;\n",
       "    }\n",
       "\n",
       "    .dataframe tbody tr th {\n",
       "        vertical-align: top;\n",
       "    }\n",
       "\n",
       "    .dataframe thead th {\n",
       "        text-align: right;\n",
       "    }\n",
       "</style>\n",
       "<table border=\"1\" class=\"dataframe\">\n",
       "  <thead>\n",
       "    <tr style=\"text-align: right;\">\n",
       "      <th></th>\n",
       "      <th>sepal-width</th>\n",
       "      <th>sepal-length</th>\n",
       "      <th>petal-width</th>\n",
       "      <th>petal-length</th>\n",
       "      <th>Class</th>\n",
       "    </tr>\n",
       "  </thead>\n",
       "  <tbody>\n",
       "    <tr>\n",
       "      <th>145</th>\n",
       "      <td>6.7</td>\n",
       "      <td>3.0</td>\n",
       "      <td>5.2</td>\n",
       "      <td>2.3</td>\n",
       "      <td>Iris-virginica</td>\n",
       "    </tr>\n",
       "    <tr>\n",
       "      <th>146</th>\n",
       "      <td>6.3</td>\n",
       "      <td>2.5</td>\n",
       "      <td>5.0</td>\n",
       "      <td>1.9</td>\n",
       "      <td>Iris-virginica</td>\n",
       "    </tr>\n",
       "    <tr>\n",
       "      <th>147</th>\n",
       "      <td>6.5</td>\n",
       "      <td>3.0</td>\n",
       "      <td>5.2</td>\n",
       "      <td>2.0</td>\n",
       "      <td>Iris-virginica</td>\n",
       "    </tr>\n",
       "    <tr>\n",
       "      <th>148</th>\n",
       "      <td>6.2</td>\n",
       "      <td>3.4</td>\n",
       "      <td>5.4</td>\n",
       "      <td>2.3</td>\n",
       "      <td>Iris-virginica</td>\n",
       "    </tr>\n",
       "    <tr>\n",
       "      <th>149</th>\n",
       "      <td>5.9</td>\n",
       "      <td>3.0</td>\n",
       "      <td>5.1</td>\n",
       "      <td>1.8</td>\n",
       "      <td>Iris-virginica</td>\n",
       "    </tr>\n",
       "  </tbody>\n",
       "</table>\n",
       "</div>"
      ],
      "text/plain": [
       "     sepal-width  sepal-length  petal-width  petal-length           Class\n",
       "145          6.7           3.0          5.2           2.3  Iris-virginica\n",
       "146          6.3           2.5          5.0           1.9  Iris-virginica\n",
       "147          6.5           3.0          5.2           2.0  Iris-virginica\n",
       "148          6.2           3.4          5.4           2.3  Iris-virginica\n",
       "149          5.9           3.0          5.1           1.8  Iris-virginica"
      ]
     },
     "execution_count": 8,
     "metadata": {},
     "output_type": "execute_result"
    }
   ],
   "source": [
    "df.tail()"
   ]
  },
  {
   "cell_type": "code",
   "execution_count": 13,
   "id": "cccf5aa0",
   "metadata": {},
   "outputs": [
    {
     "data": {
      "text/plain": [
       "5"
      ]
     },
     "execution_count": 13,
     "metadata": {},
     "output_type": "execute_result"
    }
   ],
   "source": [
    "df.shape[1]"
   ]
  },
  {
   "cell_type": "markdown",
   "id": "2f1505f3",
   "metadata": {},
   "source": [
    "# X = Features/Attributes(Independent) and y = Label(Dependent)"
   ]
  },
  {
   "cell_type": "code",
   "execution_count": 15,
   "id": "5e79f447",
   "metadata": {},
   "outputs": [
    {
     "name": "stdout",
     "output_type": "stream",
     "text": [
      "     sepal-width  sepal-length  petal-width  petal-length\n",
      "0            5.1           3.5          1.4           0.2\n",
      "1            4.9           3.0          1.4           0.2\n",
      "2            4.7           3.2          1.3           0.2\n",
      "3            4.6           3.1          1.5           0.2\n",
      "4            5.0           3.6          1.4           0.2\n",
      "..           ...           ...          ...           ...\n",
      "145          6.7           3.0          5.2           2.3\n",
      "146          6.3           2.5          5.0           1.9\n",
      "147          6.5           3.0          5.2           2.0\n",
      "148          6.2           3.4          5.4           2.3\n",
      "149          5.9           3.0          5.1           1.8\n",
      "\n",
      "[150 rows x 4 columns]\n"
     ]
    }
   ],
   "source": [
    "X_features = df.iloc[:, :-1]\n",
    "print(X_features)\n",
    "X = X_features.values\n",
    "y = df.iloc[:, 4].values"
   ]
  },
  {
   "cell_type": "markdown",
   "id": "3c347e75",
   "metadata": {},
   "source": [
    "# Splitting into train and Test : "
   ]
  },
  {
   "cell_type": "code",
   "execution_count": 11,
   "id": "d7b56bc0",
   "metadata": {},
   "outputs": [],
   "source": [
    "from sklearn.model_selection import train_test_split\n",
    "X_train, X_test, y_train, y_test = train_test_split(X, y, test_size=0.20)"
   ]
  },
  {
   "cell_type": "markdown",
   "id": "0e30eaf5",
   "metadata": {},
   "source": [
    "# Feature Scaling : "
   ]
  },
  {
   "cell_type": "code",
   "execution_count": 38,
   "id": "5651bddf",
   "metadata": {},
   "outputs": [
    {
     "data": {
      "text/plain": [
       "StandardScaler()"
      ]
     },
     "execution_count": 38,
     "metadata": {},
     "output_type": "execute_result"
    }
   ],
   "source": [
    "from sklearn.preprocessing import StandardScaler\n",
    "\n",
    "scaler = StandardScaler()\n",
    "\n",
    "#Here fit() is only applied in X_train , not in X_test\n",
    "\n",
    "scaler.fit(X_train)"
   ]
  },
  {
   "cell_type": "code",
   "execution_count": 37,
   "id": "3b6bca5f",
   "metadata": {},
   "outputs": [],
   "source": [
    "# Here transform() is applied to both X_train and X_test \n",
    "# Why transform for X_test ? -  as we also have to feature scale our test data \n",
    "# Why not explicity fit() the test data ?  - coz the mean calculated for train, should be also used for test to avoid overfitting\n",
    "\n",
    "X_train = scaler.transform(X_train)\n",
    "X_test = scaler.transform(X_test)"
   ]
  },
  {
   "cell_type": "code",
   "execution_count": 35,
   "id": "3db7cafe",
   "metadata": {
    "scrolled": false
   },
   "outputs": [
    {
     "data": {
      "text/plain": [
       "array([[-1.000586  ,  1.38039705, -1.3347608 , -1.30854911],\n",
       "       [-1.000586  ,  0.88518735, -1.27800272, -1.30854911],\n",
       "       [-1.71885311, -0.10523206, -1.39151887, -1.30854911],\n",
       "       [ 0.43594824,  0.88518735,  0.93556232,  1.45552781],\n",
       "       [ 0.31623705, -0.10523206,  0.65177193,  0.79741425],\n",
       "       [-0.52174125,  2.12321161, -1.39151887, -1.04530369],\n",
       "       [-0.88087481,  1.87560676, -1.22124464, -1.30854911],\n",
       "       [-0.04289651, -0.84804662,  0.76528808,  0.92903697],\n",
       "       [ 0.55565942, -1.34325632,  0.65177193,  0.40254612],\n",
       "       [ 1.6330601 , -0.10523206,  1.16259463,  0.53416883],\n",
       "       [-1.71885311, -0.35283691, -1.3347608 , -1.30854911],\n",
       "       [ 0.55565942, -0.84804662,  0.65177193,  0.79741425],\n",
       "       [ 1.51334891, -0.10523206,  1.2193527 ,  1.19228239],\n",
       "       [ 0.19652586, -0.35283691,  0.42473962,  0.40254612],\n",
       "       [ 1.15421535,  0.38997764,  1.2193527 ,  1.45552781],\n",
       "       [ 1.39363772,  0.38997764,  0.53825577,  0.27092341],\n",
       "       [ 0.91479298, -0.10523206,  0.36798154,  0.27092341],\n",
       "       [-0.04289651, -0.84804662,  0.76528808,  0.92903697],\n",
       "       [-0.52174125,  0.88518735, -1.16448656, -1.30854911],\n",
       "       [-0.40203007, -1.09565147,  0.36798154,  0.00767799],\n",
       "       [-1.47943074,  0.38997764, -1.3347608 , -1.30854911],\n",
       "       [ 0.07681468,  0.38997764,  0.59501385,  0.79741425],\n",
       "       [-0.28231888, -0.10523206,  0.1977073 ,  0.1393007 ],\n",
       "       [-0.88087481,  1.6280019 , -1.27800272, -1.04530369],\n",
       "       [-0.76116362,  2.61842131, -1.27800272, -1.44017182],\n",
       "       [-1.000586  ,  0.38997764, -1.44827695, -1.30854911],\n",
       "       [ 0.19652586, -0.10523206,  0.59501385,  0.79741425],\n",
       "       [-0.16260769, -0.60044177,  0.42473962,  0.1393007 ],\n",
       "       [-0.40203007,  1.1327922 , -1.39151887, -1.30854911],\n",
       "       [ 0.31623705, -0.35283691,  0.53825577,  0.27092341],\n",
       "       [-0.40203007, -1.83846603,  0.14094923,  0.1393007 ],\n",
       "       [-0.28231888, -1.34325632,  0.08419115, -0.12394472],\n",
       "       [-1.35971955,  0.38997764, -1.39151887, -1.30854911],\n",
       "       [-1.24000837, -0.10523206, -1.3347608 , -1.1769264 ],\n",
       "       [-0.40203007, -1.59086118,  0.02743307, -0.12394472],\n",
       "       [ 0.31623705, -0.60044177,  0.53825577,  0.00767799],\n",
       "       [-0.88087481,  0.88518735, -1.27800272, -1.30854911],\n",
       "       [ 0.55565942,  0.63758249,  1.27611078,  1.71877323],\n",
       "       [ 0.31623705, -1.09565147,  1.04907847,  0.27092341],\n",
       "       [ 1.03450417,  0.14237279,  1.04907847,  1.58715052],\n",
       "       [ 0.67537061,  0.14237279,  0.99232039,  0.79741425],\n",
       "       [-1.000586  ,  1.1327922 , -1.39151887, -1.1769264 ],\n",
       "       [-0.04289651, -0.84804662,  0.1977073 , -0.25556743],\n",
       "       [ 2.23161603, -0.60044177,  1.67341733,  1.06065968],\n",
       "       [ 0.79508179, -0.10523206,  0.82204616,  1.06065968],\n",
       "       [-1.000586  , -0.10523206, -1.22124464, -1.30854911],\n",
       "       [-1.71885311,  0.38997764, -1.39151887, -1.30854911],\n",
       "       [-1.35971955,  0.38997764, -1.22124464, -1.30854911],\n",
       "       [-0.40203007, -1.34325632,  0.14094923,  0.1393007 ],\n",
       "       [ 1.03450417,  0.14237279,  0.53825577,  0.40254612],\n",
       "       [-0.40203007, -1.59086118, -0.02932501, -0.25556743],\n",
       "       [-1.24000837,  0.14237279, -1.22124464, -1.30854911],\n",
       "       [ 0.31623705, -0.10523206,  0.48149769,  0.27092341],\n",
       "       [-0.04289651,  2.37081646, -1.44827695, -1.30854911],\n",
       "       [ 0.55565942, -0.60044177,  0.76528808,  0.40254612],\n",
       "       [-0.88087481,  1.87560676, -1.27800272, -1.1769264 ],\n",
       "       [-1.12029718, -0.10523206, -1.3347608 , -1.30854911],\n",
       "       [ 1.75277128, -0.35283691,  1.44638502,  0.79741425],\n",
       "       [-1.24000837,  0.88518735, -1.22124464, -1.30854911],\n",
       "       [ 1.27392654,  0.38997764,  1.10583655,  1.45552781],\n",
       "       [-1.59914193, -1.83846603, -1.39151887, -1.1769264 ],\n",
       "       [ 0.67537061,  0.38997764,  0.87880424,  1.45552781],\n",
       "       [-0.16260769, -0.10523206,  0.25446538,  0.00767799],\n",
       "       [-0.76116362, -0.84804662,  0.08419115,  0.27092341],\n",
       "       [-0.16260769, -0.35283691,  0.25446538,  0.1393007 ],\n",
       "       [-1.000586  ,  1.1327922 , -1.22124464, -0.78205827],\n",
       "       [-1.000586  ,  0.88518735, -1.22124464, -1.04530369],\n",
       "       [-0.28231888, -0.10523206,  0.42473962,  0.40254612],\n",
       "       [ 1.6330601 ,  1.38039705,  1.33286886,  1.71877323],\n",
       "       [ 1.03450417,  0.63758249,  1.10583655,  1.71877323],\n",
       "       [ 0.79508179, -0.10523206,  0.99232039,  0.79741425],\n",
       "       [-1.47943074,  0.88518735, -1.3347608 , -1.1769264 ],\n",
       "       [ 1.6330601 ,  0.38997764,  1.27611078,  0.79741425],\n",
       "       [ 0.19652586, -2.08607088,  0.14094923, -0.25556743],\n",
       "       [ 0.67537061, -0.35283691,  0.31122346,  0.1393007 ],\n",
       "       [ 0.79508179, -0.60044177,  0.48149769,  0.40254612],\n",
       "       [ 0.43594824, -2.08607088,  0.42473962,  0.40254612],\n",
       "       [-0.28231888, -0.84804662,  0.25446538,  0.1393007 ],\n",
       "       [ 1.15421535, -0.60044177,  0.59501385,  0.27092341],\n",
       "       [ 0.55565942, -1.34325632,  0.70853   ,  0.92903697],\n",
       "       [ 0.43594824, -0.35283691,  0.31122346,  0.1393007 ],\n",
       "       [-0.16260769, -1.09565147, -0.14284116, -0.25556743],\n",
       "       [-0.04289651, -0.60044177,  0.76528808,  1.58715052],\n",
       "       [ 1.03450417, -1.34325632,  1.16259463,  0.79741425],\n",
       "       [ 0.31623705, -0.60044177,  0.14094923,  0.1393007 ],\n",
       "       [-1.12029718, -1.59086118, -0.25635732, -0.25556743],\n",
       "       [-0.52174125, -0.10523206,  0.42473962,  0.40254612],\n",
       "       [-1.000586  , -2.58128059, -0.14284116, -0.25556743],\n",
       "       [-0.52174125,  2.12321161, -1.16448656, -1.04530369],\n",
       "       [ 0.67537061, -0.60044177,  1.04907847,  1.19228239],\n",
       "       [ 1.15421535, -0.10523206,  0.99232039,  1.19228239],\n",
       "       [-1.24000837,  0.88518735, -1.05097041, -1.30854911],\n",
       "       [ 0.07681468, -0.10523206,  0.25446538,  0.40254612],\n",
       "       [-1.47943074,  0.14237279, -1.27800272, -1.30854911],\n",
       "       [ 1.87248247, -0.60044177,  1.33286886,  0.92903697],\n",
       "       [ 2.23161603,  1.87560676,  1.67341733,  1.3239051 ],\n",
       "       [ 0.67537061, -0.60044177,  1.04907847,  1.3239051 ],\n",
       "       [ 1.27392654,  0.14237279,  0.76528808,  1.45552781],\n",
       "       [-1.8385643 , -0.10523206, -1.50503503, -1.44017182],\n",
       "       [-0.52174125,  1.6280019 , -1.27800272, -1.30854911],\n",
       "       [-1.12029718,  0.14237279, -1.27800272, -1.44017182],\n",
       "       [ 1.27392654,  0.14237279,  0.93556232,  1.19228239],\n",
       "       [ 0.19652586, -0.84804662,  0.76528808,  0.53416883],\n",
       "       [-1.47943074,  1.38039705, -1.56179311, -1.30854911],\n",
       "       [ 0.43594824, -0.60044177,  0.59501385,  0.79741425],\n",
       "       [-1.000586  ,  0.63758249, -1.3347608 , -1.30854911],\n",
       "       [-0.28231888, -0.35283691, -0.08608308,  0.1393007 ],\n",
       "       [-0.76116362,  1.1327922 , -1.27800272, -1.30854911],\n",
       "       [-0.52174125,  0.88518735, -1.27800272, -1.04530369],\n",
       "       [ 1.27392654,  0.14237279,  0.65177193,  0.40254612],\n",
       "       [-0.16260769, -0.60044177,  0.1977073 ,  0.1393007 ],\n",
       "       [-0.88087481, -1.34325632, -0.42663155, -0.12394472],\n",
       "       [ 2.23161603, -0.10523206,  1.33286886,  1.45552781],\n",
       "       [ 0.55565942,  0.88518735,  1.04907847,  1.58715052],\n",
       "       [ 0.91479298, -0.35283691,  0.48149769,  0.1393007 ],\n",
       "       [ 1.03450417,  0.63758249,  1.10583655,  1.19228239],\n",
       "       [ 0.67537061,  0.38997764,  0.42473962,  0.40254612],\n",
       "       [-0.88087481,  0.63758249, -1.16448656, -0.91368098],\n",
       "       [ 2.23161603, -1.09565147,  1.78693348,  1.45552781],\n",
       "       [-0.16260769,  1.87560676, -1.16448656, -1.1769264 ]])"
      ]
     },
     "execution_count": 35,
     "metadata": {},
     "output_type": "execute_result"
    }
   ],
   "source": [
    "X_train"
   ]
  },
  {
   "cell_type": "code",
   "execution_count": 36,
   "id": "3e478570",
   "metadata": {},
   "outputs": [
    {
     "data": {
      "text/plain": [
       "array([[-0.28231888, -0.60044177,  0.65177193,  1.06065968],\n",
       "       [ 0.55565942,  0.63758249,  0.53825577,  0.53416883],\n",
       "       [ 0.55565942, -0.35283691,  1.04907847,  0.79741425],\n",
       "       [-1.12029718,  0.14237279, -1.27800272, -1.44017182],\n",
       "       [-0.04289651, -1.09565147,  0.14094923,  0.00767799],\n",
       "       [ 0.79508179,  0.38997764,  0.76528808,  1.06065968],\n",
       "       [-0.16260769,  3.36123587, -1.27800272, -1.04530369],\n",
       "       [ 0.19652586,  0.88518735,  0.42473962,  0.53416883],\n",
       "       [ 1.03450417,  0.14237279,  0.36798154,  0.27092341],\n",
       "       [-0.76116362,  0.88518735, -1.3347608 , -1.30854911],\n",
       "       [-1.12029718,  0.14237279, -1.27800272, -1.44017182],\n",
       "       [-0.88087481,  1.1327922 , -1.3347608 , -1.1769264 ],\n",
       "       [-1.12029718, -1.34325632,  0.42473962,  0.66579154],\n",
       "       [-0.04289651, -0.84804662,  0.08419115,  0.00767799],\n",
       "       [ 0.07681468, -0.10523206,  0.76528808,  0.79741425],\n",
       "       [-1.24000837, -0.10523206, -1.3347608 , -1.44017182],\n",
       "       [ 1.03450417, -0.10523206,  0.82204616,  1.45552781],\n",
       "       [ 0.79508179, -0.10523206,  1.16259463,  1.3239051 ],\n",
       "       [ 2.4710384 ,  1.87560676,  1.50314309,  1.06065968],\n",
       "       [-0.40203007,  2.86602617, -1.3347608 , -1.30854911],\n",
       "       [-0.16260769, -1.34325632,  0.70853   ,  1.06065968],\n",
       "       [-1.000586  , -1.83846603, -0.25635732, -0.25556743],\n",
       "       [-0.64145244,  1.6280019 , -1.27800272, -1.30854911],\n",
       "       [-0.88087481,  1.87560676, -1.05097041, -1.04530369],\n",
       "       [ 0.19652586, -2.08607088,  0.70853   ,  0.40254612],\n",
       "       [ 2.11190484, -0.10523206,  1.61665925,  1.19228239],\n",
       "       [-0.88087481,  1.1327922 , -1.3347608 , -1.30854911],\n",
       "       [ 0.67537061, -0.84804662,  0.87880424,  0.92903697],\n",
       "       [ 0.55565942, -1.83846603,  0.36798154,  0.1393007 ],\n",
       "       [ 1.03450417, -0.10523206,  0.70853   ,  0.66579154]])"
      ]
     },
     "execution_count": 36,
     "metadata": {},
     "output_type": "execute_result"
    }
   ],
   "source": [
    "X_test"
   ]
  },
  {
   "cell_type": "markdown",
   "id": "e0feac3e",
   "metadata": {},
   "source": [
    "# KNN Algo"
   ]
  },
  {
   "cell_type": "code",
   "execution_count": 40,
   "id": "6e6e8c06",
   "metadata": {},
   "outputs": [
    {
     "data": {
      "text/plain": [
       "KNeighborsClassifier(n_neighbors=3)"
      ]
     },
     "execution_count": 40,
     "metadata": {},
     "output_type": "execute_result"
    }
   ],
   "source": [
    "from sklearn.neighbors import KNeighborsClassifier\n",
    "\n",
    "classifier = KNeighborsClassifier(n_neighbors = 3)\n",
    "\n",
    "# Now using fit() for training data in Model Building to find all the parameters .\n",
    "\n",
    "classifier.fit(X_train, y_train)"
   ]
  },
  {
   "cell_type": "markdown",
   "id": "6c5ec0dd",
   "metadata": {},
   "source": [
    "# To make predictions on our test data :"
   ]
  },
  {
   "cell_type": "code",
   "execution_count": 41,
   "id": "fac7de9b",
   "metadata": {},
   "outputs": [],
   "source": [
    "y_pred = classifier.predict(X_test)     # Using Predict() for testing data to make predictions using our model."
   ]
  },
  {
   "cell_type": "markdown",
   "id": "9463605e",
   "metadata": {},
   "source": [
    "# Evaluating our Model "
   ]
  },
  {
   "cell_type": "code",
   "execution_count": 25,
   "id": "63655058",
   "metadata": {},
   "outputs": [],
   "source": [
    "from sklearn.metrics import confusion_matrix, classification_report "
   ]
  },
  {
   "cell_type": "code",
   "execution_count": 26,
   "id": "fa766029",
   "metadata": {},
   "outputs": [
    {
     "name": "stdout",
     "output_type": "stream",
     "text": [
      "[[10  0  0]\n",
      " [ 0  8  0]\n",
      " [ 0  2 10]]\n",
      "                 precision    recall  f1-score   support\n",
      "\n",
      "    Iris-setosa       1.00      1.00      1.00        10\n",
      "Iris-versicolor       0.80      1.00      0.89         8\n",
      " Iris-virginica       1.00      0.83      0.91        12\n",
      "\n",
      "       accuracy                           0.93        30\n",
      "      macro avg       0.93      0.94      0.93        30\n",
      "   weighted avg       0.95      0.93      0.93        30\n",
      "\n"
     ]
    }
   ],
   "source": [
    "print(confusion_matrix(y_test, y_pred))\n",
    "print(classification_report(y_test, y_pred))"
   ]
  },
  {
   "cell_type": "markdown",
   "id": "e961b89b",
   "metadata": {},
   "source": [
    "# Trying with K = 5 "
   ]
  },
  {
   "cell_type": "code",
   "execution_count": 28,
   "id": "4deb6b03",
   "metadata": {},
   "outputs": [
    {
     "data": {
      "text/plain": [
       "KNeighborsClassifier()"
      ]
     },
     "execution_count": 28,
     "metadata": {},
     "output_type": "execute_result"
    }
   ],
   "source": [
    "from sklearn.neighbors import KNeighborsClassifier\n",
    "\n",
    "classifier = KNeighborsClassifier(n_neighbors = 5)\n",
    "\n",
    "classifier.fit(X_train, y_train)"
   ]
  },
  {
   "cell_type": "code",
   "execution_count": 29,
   "id": "6eb06d85",
   "metadata": {},
   "outputs": [],
   "source": [
    "y_pred = classifier.predict(X_test)"
   ]
  },
  {
   "cell_type": "code",
   "execution_count": 30,
   "id": "fa2099f3",
   "metadata": {},
   "outputs": [
    {
     "name": "stdout",
     "output_type": "stream",
     "text": [
      "[[10  0  0]\n",
      " [ 0  8  0]\n",
      " [ 0  3  9]]\n",
      "                 precision    recall  f1-score   support\n",
      "\n",
      "    Iris-setosa       1.00      1.00      1.00        10\n",
      "Iris-versicolor       0.73      1.00      0.84         8\n",
      " Iris-virginica       1.00      0.75      0.86        12\n",
      "\n",
      "       accuracy                           0.90        30\n",
      "      macro avg       0.91      0.92      0.90        30\n",
      "   weighted avg       0.93      0.90      0.90        30\n",
      "\n"
     ]
    }
   ],
   "source": [
    "from sklearn.metrics import confusion_matrix, classification_report \n",
    "print(confusion_matrix(y_test, y_pred))\n",
    "print(classification_report(y_test, y_pred))"
   ]
  },
  {
   "cell_type": "markdown",
   "id": "081278eb",
   "metadata": {},
   "source": [
    "# Trying with K = 1 "
   ]
  },
  {
   "cell_type": "code",
   "execution_count": 32,
   "id": "772f3abd",
   "metadata": {},
   "outputs": [
    {
     "data": {
      "text/plain": [
       "KNeighborsClassifier(n_neighbors=1)"
      ]
     },
     "execution_count": 32,
     "metadata": {},
     "output_type": "execute_result"
    }
   ],
   "source": [
    "classifier = KNeighborsClassifier(n_neighbors = 1)\n",
    "\n",
    "classifier.fit(X_train, y_train)"
   ]
  },
  {
   "cell_type": "code",
   "execution_count": 33,
   "id": "70bf7d82",
   "metadata": {},
   "outputs": [],
   "source": [
    "y_pred = classifier.predict(X_test)"
   ]
  },
  {
   "cell_type": "code",
   "execution_count": 34,
   "id": "b6f63645",
   "metadata": {},
   "outputs": [
    {
     "name": "stdout",
     "output_type": "stream",
     "text": [
      "[[10  0  0]\n",
      " [ 0  7  1]\n",
      " [ 0  2 10]]\n",
      "                 precision    recall  f1-score   support\n",
      "\n",
      "    Iris-setosa       1.00      1.00      1.00        10\n",
      "Iris-versicolor       0.78      0.88      0.82         8\n",
      " Iris-virginica       0.91      0.83      0.87        12\n",
      "\n",
      "       accuracy                           0.90        30\n",
      "      macro avg       0.90      0.90      0.90        30\n",
      "   weighted avg       0.90      0.90      0.90        30\n",
      "\n"
     ]
    }
   ],
   "source": [
    "from sklearn.metrics import confusion_matrix, classification_report \n",
    "print(confusion_matrix(y_test, y_pred))\n",
    "print(classification_report(y_test, y_pred))"
   ]
  },
  {
   "cell_type": "code",
   "execution_count": null,
   "id": "cb55eacd",
   "metadata": {},
   "outputs": [],
   "source": []
  }
 ],
 "metadata": {
  "kernelspec": {
   "display_name": "Python 3 (ipykernel)",
   "language": "python",
   "name": "python3"
  },
  "language_info": {
   "codemirror_mode": {
    "name": "ipython",
    "version": 3
   },
   "file_extension": ".py",
   "mimetype": "text/x-python",
   "name": "python",
   "nbconvert_exporter": "python",
   "pygments_lexer": "ipython3",
   "version": "3.9.12"
  }
 },
 "nbformat": 4,
 "nbformat_minor": 5
}
